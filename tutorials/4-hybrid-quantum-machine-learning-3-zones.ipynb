{
 "cells": [
  {
   "cell_type": "code",
   "execution_count": 42,
   "metadata": {
    "colab": {
     "base_uri": "https://localhost:8080/"
    },
    "id": "v1c1wu0Hnb2K",
    "outputId": "cd0124bf-3dec-4ff6-f530-87c29995baa4"
   },
   "outputs": [
    {
     "name": "stdout",
     "output_type": "stream",
     "text": [
      "Looking in indexes: https://pypi.org/simple, https://us-python.pkg.dev/colab-wheels/public/simple/\n",
      "Requirement already satisfied: pennylane in /usr/local/lib/python3.10/dist-packages (0.29.1)\n",
      "Requirement already satisfied: appdirs in /usr/local/lib/python3.10/dist-packages (from pennylane) (1.4.4)\n",
      "Requirement already satisfied: numpy<1.24 in /usr/local/lib/python3.10/dist-packages (from pennylane) (1.22.4)\n",
      "Requirement already satisfied: requests in /usr/local/lib/python3.10/dist-packages (from pennylane) (2.27.1)\n",
      "Requirement already satisfied: autograd in /usr/local/lib/python3.10/dist-packages (from pennylane) (1.5)\n",
      "Requirement already satisfied: scipy in /usr/local/lib/python3.10/dist-packages (from pennylane) (1.10.1)\n",
      "Requirement already satisfied: retworkx in /usr/local/lib/python3.10/dist-packages (from pennylane) (0.12.1)\n",
      "Requirement already satisfied: toml in /usr/local/lib/python3.10/dist-packages (from pennylane) (0.10.2)\n",
      "Requirement already satisfied: pennylane-lightning>=0.28 in /usr/local/lib/python3.10/dist-packages (from pennylane) (0.29.0)\n",
      "Requirement already satisfied: networkx in /usr/local/lib/python3.10/dist-packages (from pennylane) (3.1)\n",
      "Requirement already satisfied: autoray>=0.3.1 in /usr/local/lib/python3.10/dist-packages (from pennylane) (0.6.3)\n",
      "Requirement already satisfied: cachetools in /usr/local/lib/python3.10/dist-packages (from pennylane) (5.3.0)\n",
      "Requirement already satisfied: semantic-version>=2.7 in /usr/local/lib/python3.10/dist-packages (from pennylane) (2.10.0)\n",
      "Requirement already satisfied: future>=0.15.2 in /usr/local/lib/python3.10/dist-packages (from autograd->pennylane) (0.18.3)\n",
      "Requirement already satisfied: charset-normalizer~=2.0.0 in /usr/local/lib/python3.10/dist-packages (from requests->pennylane) (2.0.12)\n",
      "Requirement already satisfied: idna<4,>=2.5 in /usr/local/lib/python3.10/dist-packages (from requests->pennylane) (3.4)\n",
      "Requirement already satisfied: urllib3<1.27,>=1.21.1 in /usr/local/lib/python3.10/dist-packages (from requests->pennylane) (1.26.15)\n",
      "Requirement already satisfied: certifi>=2017.4.17 in /usr/local/lib/python3.10/dist-packages (from requests->pennylane) (2022.12.7)\n",
      "Requirement already satisfied: rustworkx==0.12.1 in /usr/local/lib/python3.10/dist-packages (from retworkx->pennylane) (0.12.1)\n",
      "Looking in indexes: https://pypi.org/simple, https://us-python.pkg.dev/colab-wheels/public/simple/\n",
      "Requirement already satisfied: strawberryfields in /usr/local/lib/python3.10/dist-packages (0.23.0)\n",
      "Requirement already satisfied: python-dateutil>=2.8.0 in /usr/local/lib/python3.10/dist-packages (from strawberryfields) (2.8.2)\n",
      "Requirement already satisfied: urllib3>=1.25.3 in /usr/local/lib/python3.10/dist-packages (from strawberryfields) (1.26.15)\n",
      "Requirement already satisfied: toml in /usr/local/lib/python3.10/dist-packages (from strawberryfields) (0.10.2)\n",
      "Requirement already satisfied: networkx>=2.0 in /usr/local/lib/python3.10/dist-packages (from strawberryfields) (3.1)\n",
      "Requirement already satisfied: requests>=2.22.0 in /usr/local/lib/python3.10/dist-packages (from strawberryfields) (2.27.1)\n",
      "Requirement already satisfied: sympy>=1.5 in /usr/local/lib/python3.10/dist-packages (from strawberryfields) (1.11.1)\n",
      "Requirement already satisfied: xanadu-cloud-client>=0.2.1 in /usr/local/lib/python3.10/dist-packages (from strawberryfields) (0.3.0)\n",
      "Requirement already satisfied: numba in /usr/local/lib/python3.10/dist-packages (from strawberryfields) (0.56.4)\n",
      "Requirement already satisfied: quantum-xir>=0.1.1 in /usr/local/lib/python3.10/dist-packages (from strawberryfields) (0.2.2)\n",
      "Requirement already satisfied: thewalrus>=0.18.0 in /usr/local/lib/python3.10/dist-packages (from strawberryfields) (0.20.0)\n",
      "Requirement already satisfied: scipy>=1.0.0 in /usr/local/lib/python3.10/dist-packages (from strawberryfields) (1.10.1)\n",
      "Requirement already satisfied: quantum-blackbird>=0.3.0 in /usr/local/lib/python3.10/dist-packages (from strawberryfields) (0.5.0)\n",
      "Requirement already satisfied: numpy>=1.17.4 in /usr/local/lib/python3.10/dist-packages (from strawberryfields) (1.22.4)\n",
      "Requirement already satisfied: six>=1.5 in /usr/local/lib/python3.10/dist-packages (from python-dateutil>=2.8.0->strawberryfields) (1.16.0)\n",
      "Requirement already satisfied: antlr4-python3-runtime==4.9.2 in /usr/local/lib/python3.10/dist-packages (from quantum-blackbird>=0.3.0->strawberryfields) (4.9.2)\n",
      "Requirement already satisfied: lark-parser>=0.11.0 in /usr/local/lib/python3.10/dist-packages (from quantum-xir>=0.1.1->strawberryfields) (0.12.0)\n",
      "Requirement already satisfied: idna<4,>=2.5 in /usr/local/lib/python3.10/dist-packages (from requests>=2.22.0->strawberryfields) (3.4)\n",
      "Requirement already satisfied: charset-normalizer~=2.0.0 in /usr/local/lib/python3.10/dist-packages (from requests>=2.22.0->strawberryfields) (2.0.12)\n",
      "Requirement already satisfied: certifi>=2017.4.17 in /usr/local/lib/python3.10/dist-packages (from requests>=2.22.0->strawberryfields) (2022.12.7)\n",
      "Requirement already satisfied: mpmath>=0.19 in /usr/local/lib/python3.10/dist-packages (from sympy>=1.5->strawberryfields) (1.3.0)\n",
      "Requirement already satisfied: dask[delayed] in /usr/local/lib/python3.10/dist-packages (from thewalrus>=0.18.0->strawberryfields) (2022.12.1)\n",
      "Requirement already satisfied: llvmlite<0.40,>=0.39.0dev0 in /usr/local/lib/python3.10/dist-packages (from numba->strawberryfields) (0.39.1)\n",
      "Requirement already satisfied: setuptools in /usr/local/lib/python3.10/dist-packages (from numba->strawberryfields) (67.7.2)\n",
      "Requirement already satisfied: appdirs in /usr/local/lib/python3.10/dist-packages (from xanadu-cloud-client>=0.2.1->strawberryfields) (1.4.4)\n",
      "Requirement already satisfied: fire in /usr/local/lib/python3.10/dist-packages (from xanadu-cloud-client>=0.2.1->strawberryfields) (0.5.0)\n",
      "Requirement already satisfied: pydantic[dotenv] in /usr/local/lib/python3.10/dist-packages (from xanadu-cloud-client>=0.2.1->strawberryfields) (1.10.7)\n",
      "Requirement already satisfied: click>=7.0 in /usr/local/lib/python3.10/dist-packages (from dask[delayed]->thewalrus>=0.18.0->strawberryfields) (8.1.3)\n",
      "Requirement already satisfied: packaging>=20.0 in /usr/local/lib/python3.10/dist-packages (from dask[delayed]->thewalrus>=0.18.0->strawberryfields) (23.1)\n",
      "Requirement already satisfied: fsspec>=0.6.0 in /usr/local/lib/python3.10/dist-packages (from dask[delayed]->thewalrus>=0.18.0->strawberryfields) (2023.4.0)\n",
      "Requirement already satisfied: toolz>=0.8.2 in /usr/local/lib/python3.10/dist-packages (from dask[delayed]->thewalrus>=0.18.0->strawberryfields) (0.12.0)\n",
      "Requirement already satisfied: partd>=0.3.10 in /usr/local/lib/python3.10/dist-packages (from dask[delayed]->thewalrus>=0.18.0->strawberryfields) (1.4.0)\n",
      "Requirement already satisfied: pyyaml>=5.3.1 in /usr/local/lib/python3.10/dist-packages (from dask[delayed]->thewalrus>=0.18.0->strawberryfields) (6.0)\n",
      "Requirement already satisfied: cloudpickle>=1.1.1 in /usr/local/lib/python3.10/dist-packages (from dask[delayed]->thewalrus>=0.18.0->strawberryfields) (2.2.1)\n",
      "Requirement already satisfied: termcolor in /usr/local/lib/python3.10/dist-packages (from fire->xanadu-cloud-client>=0.2.1->strawberryfields) (2.3.0)\n",
      "Requirement already satisfied: typing-extensions>=4.2.0 in /usr/local/lib/python3.10/dist-packages (from pydantic[dotenv]->xanadu-cloud-client>=0.2.1->strawberryfields) (4.5.0)\n",
      "Requirement already satisfied: python-dotenv>=0.10.4 in /usr/local/lib/python3.10/dist-packages (from pydantic[dotenv]->xanadu-cloud-client>=0.2.1->strawberryfields) (1.0.0)\n",
      "Requirement already satisfied: locket in /usr/local/lib/python3.10/dist-packages (from partd>=0.3.10->dask[delayed]->thewalrus>=0.18.0->strawberryfields) (1.0.0)\n",
      "Looking in indexes: https://pypi.org/simple, https://us-python.pkg.dev/colab-wheels/public/simple/\n",
      "Requirement already satisfied: PennyLane-SF in /usr/local/lib/python3.10/dist-packages (0.29.0)\n",
      "Requirement already satisfied: pennylane>=0.19 in /usr/local/lib/python3.10/dist-packages (from PennyLane-SF) (0.29.1)\n",
      "Requirement already satisfied: strawberryfields>=0.22 in /usr/local/lib/python3.10/dist-packages (from PennyLane-SF) (0.23.0)\n",
      "Requirement already satisfied: retworkx in /usr/local/lib/python3.10/dist-packages (from pennylane>=0.19->PennyLane-SF) (0.12.1)\n",
      "Requirement already satisfied: autoray>=0.3.1 in /usr/local/lib/python3.10/dist-packages (from pennylane>=0.19->PennyLane-SF) (0.6.3)\n",
      "Requirement already satisfied: pennylane-lightning>=0.28 in /usr/local/lib/python3.10/dist-packages (from pennylane>=0.19->PennyLane-SF) (0.29.0)\n",
      "Requirement already satisfied: networkx in /usr/local/lib/python3.10/dist-packages (from pennylane>=0.19->PennyLane-SF) (3.1)\n",
      "Requirement already satisfied: appdirs in /usr/local/lib/python3.10/dist-packages (from pennylane>=0.19->PennyLane-SF) (1.4.4)\n",
      "Requirement already satisfied: requests in /usr/local/lib/python3.10/dist-packages (from pennylane>=0.19->PennyLane-SF) (2.27.1)\n",
      "Requirement already satisfied: cachetools in /usr/local/lib/python3.10/dist-packages (from pennylane>=0.19->PennyLane-SF) (5.3.0)\n",
      "Requirement already satisfied: scipy in /usr/local/lib/python3.10/dist-packages (from pennylane>=0.19->PennyLane-SF) (1.10.1)\n",
      "Requirement already satisfied: toml in /usr/local/lib/python3.10/dist-packages (from pennylane>=0.19->PennyLane-SF) (0.10.2)\n",
      "Requirement already satisfied: numpy<1.24 in /usr/local/lib/python3.10/dist-packages (from pennylane>=0.19->PennyLane-SF) (1.22.4)\n",
      "Requirement already satisfied: autograd in /usr/local/lib/python3.10/dist-packages (from pennylane>=0.19->PennyLane-SF) (1.5)\n",
      "Requirement already satisfied: semantic-version>=2.7 in /usr/local/lib/python3.10/dist-packages (from pennylane>=0.19->PennyLane-SF) (2.10.0)\n",
      "Requirement already satisfied: thewalrus>=0.18.0 in /usr/local/lib/python3.10/dist-packages (from strawberryfields>=0.22->PennyLane-SF) (0.20.0)\n",
      "Requirement already satisfied: sympy>=1.5 in /usr/local/lib/python3.10/dist-packages (from strawberryfields>=0.22->PennyLane-SF) (1.11.1)\n",
      "Requirement already satisfied: urllib3>=1.25.3 in /usr/local/lib/python3.10/dist-packages (from strawberryfields>=0.22->PennyLane-SF) (1.26.15)\n",
      "Requirement already satisfied: xanadu-cloud-client>=0.2.1 in /usr/local/lib/python3.10/dist-packages (from strawberryfields>=0.22->PennyLane-SF) (0.3.0)\n",
      "Requirement already satisfied: numba in /usr/local/lib/python3.10/dist-packages (from strawberryfields>=0.22->PennyLane-SF) (0.56.4)\n",
      "Requirement already satisfied: quantum-blackbird>=0.3.0 in /usr/local/lib/python3.10/dist-packages (from strawberryfields>=0.22->PennyLane-SF) (0.5.0)\n",
      "Requirement already satisfied: python-dateutil>=2.8.0 in /usr/local/lib/python3.10/dist-packages (from strawberryfields>=0.22->PennyLane-SF) (2.8.2)\n",
      "Requirement already satisfied: quantum-xir>=0.1.1 in /usr/local/lib/python3.10/dist-packages (from strawberryfields>=0.22->PennyLane-SF) (0.2.2)\n",
      "Requirement already satisfied: six>=1.5 in /usr/local/lib/python3.10/dist-packages (from python-dateutil>=2.8.0->strawberryfields>=0.22->PennyLane-SF) (1.16.0)\n",
      "Requirement already satisfied: antlr4-python3-runtime==4.9.2 in /usr/local/lib/python3.10/dist-packages (from quantum-blackbird>=0.3.0->strawberryfields>=0.22->PennyLane-SF) (4.9.2)\n",
      "Requirement already satisfied: lark-parser>=0.11.0 in /usr/local/lib/python3.10/dist-packages (from quantum-xir>=0.1.1->strawberryfields>=0.22->PennyLane-SF) (0.12.0)\n",
      "Requirement already satisfied: certifi>=2017.4.17 in /usr/local/lib/python3.10/dist-packages (from requests->pennylane>=0.19->PennyLane-SF) (2022.12.7)\n",
      "Requirement already satisfied: idna<4,>=2.5 in /usr/local/lib/python3.10/dist-packages (from requests->pennylane>=0.19->PennyLane-SF) (3.4)\n",
      "Requirement already satisfied: charset-normalizer~=2.0.0 in /usr/local/lib/python3.10/dist-packages (from requests->pennylane>=0.19->PennyLane-SF) (2.0.12)\n",
      "Requirement already satisfied: mpmath>=0.19 in /usr/local/lib/python3.10/dist-packages (from sympy>=1.5->strawberryfields>=0.22->PennyLane-SF) (1.3.0)\n",
      "Requirement already satisfied: dask[delayed] in /usr/local/lib/python3.10/dist-packages (from thewalrus>=0.18.0->strawberryfields>=0.22->PennyLane-SF) (2022.12.1)\n",
      "Requirement already satisfied: setuptools in /usr/local/lib/python3.10/dist-packages (from numba->strawberryfields>=0.22->PennyLane-SF) (67.7.2)\n",
      "Requirement already satisfied: llvmlite<0.40,>=0.39.0dev0 in /usr/local/lib/python3.10/dist-packages (from numba->strawberryfields>=0.22->PennyLane-SF) (0.39.1)\n",
      "Requirement already satisfied: fire in /usr/local/lib/python3.10/dist-packages (from xanadu-cloud-client>=0.2.1->strawberryfields>=0.22->PennyLane-SF) (0.5.0)\n",
      "Requirement already satisfied: pydantic[dotenv] in /usr/local/lib/python3.10/dist-packages (from xanadu-cloud-client>=0.2.1->strawberryfields>=0.22->PennyLane-SF) (1.10.7)\n",
      "Requirement already satisfied: future>=0.15.2 in /usr/local/lib/python3.10/dist-packages (from autograd->pennylane>=0.19->PennyLane-SF) (0.18.3)\n",
      "Requirement already satisfied: rustworkx==0.12.1 in /usr/local/lib/python3.10/dist-packages (from retworkx->pennylane>=0.19->PennyLane-SF) (0.12.1)\n",
      "Requirement already satisfied: pyyaml>=5.3.1 in /usr/local/lib/python3.10/dist-packages (from dask[delayed]->thewalrus>=0.18.0->strawberryfields>=0.22->PennyLane-SF) (6.0)\n",
      "Requirement already satisfied: toolz>=0.8.2 in /usr/local/lib/python3.10/dist-packages (from dask[delayed]->thewalrus>=0.18.0->strawberryfields>=0.22->PennyLane-SF) (0.12.0)\n",
      "Requirement already satisfied: fsspec>=0.6.0 in /usr/local/lib/python3.10/dist-packages (from dask[delayed]->thewalrus>=0.18.0->strawberryfields>=0.22->PennyLane-SF) (2023.4.0)\n",
      "Requirement already satisfied: cloudpickle>=1.1.1 in /usr/local/lib/python3.10/dist-packages (from dask[delayed]->thewalrus>=0.18.0->strawberryfields>=0.22->PennyLane-SF) (2.2.1)\n",
      "Requirement already satisfied: partd>=0.3.10 in /usr/local/lib/python3.10/dist-packages (from dask[delayed]->thewalrus>=0.18.0->strawberryfields>=0.22->PennyLane-SF) (1.4.0)\n",
      "Requirement already satisfied: packaging>=20.0 in /usr/local/lib/python3.10/dist-packages (from dask[delayed]->thewalrus>=0.18.0->strawberryfields>=0.22->PennyLane-SF) (23.1)\n",
      "Requirement already satisfied: click>=7.0 in /usr/local/lib/python3.10/dist-packages (from dask[delayed]->thewalrus>=0.18.0->strawberryfields>=0.22->PennyLane-SF) (8.1.3)\n",
      "Requirement already satisfied: termcolor in /usr/local/lib/python3.10/dist-packages (from fire->xanadu-cloud-client>=0.2.1->strawberryfields>=0.22->PennyLane-SF) (2.3.0)\n",
      "Requirement already satisfied: typing-extensions>=4.2.0 in /usr/local/lib/python3.10/dist-packages (from pydantic[dotenv]->xanadu-cloud-client>=0.2.1->strawberryfields>=0.22->PennyLane-SF) (4.5.0)\n",
      "Requirement already satisfied: python-dotenv>=0.10.4 in /usr/local/lib/python3.10/dist-packages (from pydantic[dotenv]->xanadu-cloud-client>=0.2.1->strawberryfields>=0.22->PennyLane-SF) (1.0.0)\n",
      "Requirement already satisfied: locket in /usr/local/lib/python3.10/dist-packages (from partd>=0.3.10->dask[delayed]->thewalrus>=0.18.0->strawberryfields>=0.22->PennyLane-SF) (1.0.0)\n"
     ]
    }
   ],
   "source": [
    "!pip install pennylane \n",
    "!pip install strawberryfields \n",
    "!pip install PennyLane-SF "
   ]
  },
  {
   "cell_type": "code",
   "execution_count": 43,
   "metadata": {
    "id": "wLrJm0BJnits"
   },
   "outputs": [],
   "source": [
    "import tensorflow as tf\n",
    "import tensorflow_datasets as tfds\n",
    "from tensorflow import keras\n",
    "from tensorflow.keras import layers\n",
    "\n",
    "import pennylane as qml\n",
    "import numpy as np\n",
    "\n",
    "import matplotlib.pyplot as plt\n",
    "\n",
    "from sklearn.model_selection import train_test_split, GridSearchCV\n",
    "from sklearn.preprocessing import OneHotEncoder, LabelEncoder, StandardScaler\n",
    "\n",
    "from tqdm import tqdm"
   ]
  },
  {
   "cell_type": "code",
   "execution_count": 44,
   "metadata": {
    "id": "oKevemj43Elo"
   },
   "outputs": [],
   "source": [
    "from sklearn.datasets import load_iris\n",
    "\n",
    "import numpy as np\n",
    "from sklearn.decomposition import PCA\n",
    "\n",
    "import torch\n",
    "from torch.autograd import Variable\n",
    "import torch.optim as optim"
   ]
  },
  {
   "cell_type": "markdown",
   "metadata": {
    "id": "taOzgNXBnv8K"
   },
   "source": [
    "# Importing Data"
   ]
  },
  {
   "cell_type": "code",
   "execution_count": 46,
   "metadata": {
    "id": "J7XJcf8f4BBb"
   },
   "outputs": [],
   "source": [
    "num_features = 4\n",
    "NUM_ZONES = 3"
   ]
  },
  {
   "cell_type": "code",
   "execution_count": 76,
   "metadata": {
    "id": "cX3up4ZknpMb"
   },
   "outputs": [],
   "source": [
    "# X_feature_size = 4 # CHANGING VARIABLE\n",
    "# iris = load_iris()\n",
    "# X = iris.data[:, :X_feature_size]\n",
    "# y = iris.target\n",
    "\n",
    "data = np.load(\"data/data_3.npz\", allow_pickle=True)[\"arr_0\"][()]\n",
    "X = np.array(data[\"pressure\"])\n",
    "y = np.array(data[\"zone_hits\"][\"data\"])\n",
    "num_sensors = X.shape[1]\n",
    "\n",
    "pca = PCA(n_components = num_features)\n",
    "pca.fit(X)\n",
    "data_pca = pca.transform(X)\n",
    "X = data_pca\n",
    "\n",
    "num_data_points = 150\n",
    "indices = np.arange(X.shape[0])\n",
    "np.random.shuffle(indices)\n",
    "indices = indices[:num_data_points]\n",
    "X = X[indices]\n",
    "y = y[indices]"
   ]
  },
  {
   "cell_type": "code",
   "execution_count": 77,
   "metadata": {
    "colab": {
     "base_uri": "https://localhost:8080/"
    },
    "id": "Jon6BSZY2XmH",
    "outputId": "f156c74f-0542-4128-87a0-00e9e0d83c30"
   },
   "outputs": [
    {
     "data": {
      "text/plain": [
       "(150, 4)"
      ]
     },
     "execution_count": 77,
     "metadata": {},
     "output_type": "execute_result"
    }
   ],
   "source": [
    "X.shape"
   ]
  },
  {
   "cell_type": "code",
   "execution_count": 78,
   "metadata": {
    "colab": {
     "base_uri": "https://localhost:8080/"
    },
    "id": "IU2gyFkW2dya",
    "outputId": "da2ff254-7f12-4d47-eec7-d55f6bc24151"
   },
   "outputs": [
    {
     "data": {
      "text/plain": [
       "(150,)"
      ]
     },
     "execution_count": 78,
     "metadata": {},
     "output_type": "execute_result"
    }
   ],
   "source": [
    "y.shape"
   ]
  },
  {
   "cell_type": "markdown",
   "metadata": {
    "id": "9NAf53QMDSTL"
   },
   "source": [
    "# Building Hybrid Quantum Model"
   ]
  },
  {
   "cell_type": "code",
   "execution_count": 51,
   "metadata": {
    "id": "Ijle_nVJDf4v"
   },
   "outputs": [],
   "source": [
    "np.random.seed(0)\n",
    "torch.manual_seed(0)\n",
    "\n",
    "num_zones = 2**NUM_ZONES # X zones - CHANGE\n",
    "margin = 0.15\n",
    "feature_size = num_features  \n",
    "batch_size = 10 \n",
    "lr_adam = 0.01\n",
    "train_split = 0.75\n",
    "# the number of the required qubits is calculated from the number of features\n",
    "num_qubits = int(np.ceil(np.log2(feature_size)))\n",
    "num_layers = 6\n",
    "total_iterations = 100   # Maybe changes to 50\n",
    "\n",
    "dev = qml.device(\"default.qubit\", wires=num_qubits)"
   ]
  },
  {
   "cell_type": "markdown",
   "metadata": {
    "id": "_GiWB0cBDrr8"
   },
   "source": [
    "### Quantum Circuit"
   ]
  },
  {
   "cell_type": "code",
   "execution_count": 52,
   "metadata": {
    "id": "9mDCjamiDpWb"
   },
   "outputs": [],
   "source": [
    "# a single layer represents one variational circuit\n",
    "def layer(W):\n",
    "    for i in range(num_qubits):\n",
    "        qml.Rot(W[i, 0], W[i, 1], W[i, 2], wires=i)\n",
    "    for j in range(num_qubits - 1):\n",
    "        qml.CNOT(wires=[j, j + 1])\n",
    "    if num_qubits >= 2:\n",
    "        # Apply additional CNOT to entangle the last with the first qubit\n",
    "        qml.CNOT(wires=[num_qubits - 1, 0])"
   ]
  },
  {
   "cell_type": "code",
   "execution_count": 53,
   "metadata": {
    "id": "q6w-bIrOD9OB"
   },
   "outputs": [],
   "source": [
    "def circuit(weights, feat=None):\n",
    "    qml.AmplitudeEmbedding(feat, range(num_qubits), pad_with=0.0, normalize=True)\n",
    "\n",
    "    for W in weights:\n",
    "        layer(W)\n",
    "\n",
    "    return qml.expval(qml.PauliZ(0))\n",
    "\n",
    "\n",
    "qnodes = []\n",
    "for iq in range(num_zones):\n",
    "    qnode = qml.QNode(circuit, dev, interface=\"torch\")\n",
    "    qnodes.append(qnode)"
   ]
  },
  {
   "cell_type": "code",
   "execution_count": 54,
   "metadata": {
    "id": "gTxckzVxHekx"
   },
   "outputs": [],
   "source": [
    "def variational_classifier(q_circuit, params, feat):\n",
    "    weights = params[0]\n",
    "    bias = params[1]\n",
    "    return q_circuit(weights, feat=feat) + bias"
   ]
  },
  {
   "cell_type": "markdown",
   "metadata": {
    "id": "YAf0VnNFHky7"
   },
   "source": [
    "### Loss Function"
   ]
  },
  {
   "cell_type": "code",
   "execution_count": 55,
   "metadata": {
    "id": "ubeFC-kDHnH6"
   },
   "outputs": [],
   "source": [
    "def multiclass_svm_loss(q_circuits, all_params, feature_vecs, true_labels):\n",
    "    loss = 0\n",
    "    num_samples = len(true_labels)\n",
    "    for i, feature_vec in enumerate(feature_vecs):\n",
    "        # Compute the score given to this sample by the classifier corresponding to the\n",
    "        # true label. So for a true label of 1, get the score computed by classifer 1,\n",
    "        # which distinguishes between \"class 1\" or \"not class 1\".\n",
    "        s_true = variational_classifier(\n",
    "            q_circuits[int(true_labels[i])],\n",
    "            (all_params[0][int(true_labels[i])], all_params[1][int(true_labels[i])]),\n",
    "            feature_vec,\n",
    "        )\n",
    "        s_true = s_true.float()\n",
    "        li = 0\n",
    "\n",
    "        # Get the scores computed for this sample by the other classifiers\n",
    "        for j in range(num_zones):\n",
    "            if j != int(true_labels[i]):\n",
    "                s_j = variational_classifier(\n",
    "                    q_circuits[j], (all_params[0][j], all_params[1][j]), feature_vec\n",
    "                )\n",
    "                s_j = s_j.float()\n",
    "                li += torch.max(torch.zeros(1).float(), s_j - s_true + margin)\n",
    "        loss += li\n",
    "\n",
    "    return loss / num_samples"
   ]
  },
  {
   "cell_type": "markdown",
   "metadata": {
    "id": "hFkQGAoRHvGY"
   },
   "source": [
    "### Classification"
   ]
  },
  {
   "cell_type": "code",
   "execution_count": 56,
   "metadata": {
    "id": "FO2dyVInHw1w"
   },
   "outputs": [],
   "source": [
    "def classify(q_circuits, all_params, feature_vecs, labels):\n",
    "    predicted_labels = []\n",
    "    raw_preds = []\n",
    "    for i, feature_vec in enumerate(feature_vecs):\n",
    "        scores = np.zeros(num_zones)\n",
    "        for c in range(num_zones):\n",
    "            score = variational_classifier(\n",
    "                q_circuits[c], (all_params[0][c], all_params[1][c]), feature_vec\n",
    "            )\n",
    "            scores[c] = float(score)\n",
    "        pred_class = np.argmax(scores)\n",
    "        predicted_labels.append(pred_class)\n",
    "        raw_preds.append(scores)\n",
    "    return predicted_labels, raw_preds\n",
    "\n",
    "\n",
    "def accuracy(labels, hard_predictions):\n",
    "    loss = 0\n",
    "    for l, p in zip(labels, hard_predictions):\n",
    "        if torch.abs(l - p) < 1e-5:\n",
    "            loss = loss + 1\n",
    "    loss = loss / labels.shape[0]\n",
    "    return loss"
   ]
  },
  {
   "cell_type": "code",
   "execution_count": 57,
   "metadata": {
    "id": "X1sAwSsdNVFQ"
   },
   "outputs": [],
   "source": [
    "def process_data(X_data, y_data):\n",
    "    X = torch.tensor(X_data)\n",
    "\n",
    "    # normalize each input\n",
    "    normalization = torch.sqrt(torch.sum(X ** 2, dim=1))\n",
    "    X_norm = X / normalization.reshape(len(X), 1)\n",
    "\n",
    "    Y = torch.tensor(y_data)\n",
    "    return X_norm, Y"
   ]
  },
  {
   "cell_type": "markdown",
   "metadata": {
    "id": "BJAt773UOP-R"
   },
   "source": [
    "### Training Procedure"
   ]
  },
  {
   "cell_type": "code",
   "execution_count": 58,
   "metadata": {
    "id": "QJB1WWzzOO1F"
   },
   "outputs": [],
   "source": [
    "def training(features, Y):\n",
    "    num_data = Y.shape[0]\n",
    "    feat_vecs_train, feat_vecs_test, Y_train, Y_test = train_test_split(features, Y, test_size= 1 - train_split, random_state=42)\n",
    "    num_train = Y_train.shape[0]\n",
    "    q_circuits = qnodes\n",
    "\n",
    "    # Initialize the parameters\n",
    "    all_weights = [\n",
    "        Variable(0.1 * torch.randn(num_layers, num_qubits, 3), requires_grad=True)\n",
    "        for i in range(num_zones)\n",
    "    ]\n",
    "    all_bias = [Variable(0.1 * torch.ones(1), requires_grad=True) for i in range(num_zones)]\n",
    "    optimizer = optim.Adam(all_weights + all_bias, lr=lr_adam)\n",
    "    params = (all_weights, all_bias)\n",
    "    print(\"Num params: \", 3 * num_layers * num_qubits * 3 + 3)\n",
    "\n",
    "    costs, train_acc, test_acc = [], [], []\n",
    "    raw_train, raw_test = [], []\n",
    "\n",
    "    # train the variational classifier\n",
    "    for it in tqdm(range(total_iterations)):\n",
    "        batch_index = np.random.randint(0, num_train, (batch_size,))\n",
    "        feat_vecs_train_batch = feat_vecs_train[batch_index]\n",
    "        Y_train_batch = Y_train[batch_index]\n",
    "\n",
    "        optimizer.zero_grad()\n",
    "        curr_cost = multiclass_svm_loss(q_circuits, params, feat_vecs_train_batch, Y_train_batch)\n",
    "        curr_cost.backward()\n",
    "        optimizer.step()\n",
    "\n",
    "        # Compute predictions on train and validation set\n",
    "        predictions_train, raw_train = classify(q_circuits, params, feat_vecs_train, Y_train)\n",
    "        predictions_test, raw_test = classify(q_circuits, params, feat_vecs_test, Y_test)\n",
    "        acc_train = accuracy(Y_train, predictions_train)\n",
    "        acc_test = accuracy(Y_test, predictions_test)\n",
    "\n",
    "        print(\n",
    "            \"Iter: {:5d} | Cost: {:0.7f} | Acc train: {:0.7f} | Acc test: {:0.7f} \"\n",
    "            \"\".format(it + 1, curr_cost.item(), acc_train, acc_test)\n",
    "        )\n",
    "\n",
    "        costs.append(curr_cost.item())\n",
    "        train_acc.append(acc_train)\n",
    "        test_acc.append(acc_test)\n",
    "\n",
    "    return costs, train_acc, test_acc, raw_train, raw_test"
   ]
  },
  {
   "cell_type": "code",
   "execution_count": 79,
   "metadata": {
    "id": "lhLm5BfxllI0"
   },
   "outputs": [],
   "source": [
    "features, Y = process_data(X, y)"
   ]
  },
  {
   "cell_type": "code",
   "execution_count": 80,
   "metadata": {
    "colab": {
     "base_uri": "https://localhost:8080/"
    },
    "id": "qp8yidqipBvS",
    "outputId": "b6574fe4-5fe8-41df-ad05-4a7ddd10bbc2"
   },
   "outputs": [
    {
     "data": {
      "text/plain": [
       "torch.Size([150, 4])"
      ]
     },
     "execution_count": 80,
     "metadata": {},
     "output_type": "execute_result"
    }
   ],
   "source": [
    "features.shape"
   ]
  },
  {
   "cell_type": "code",
   "execution_count": 81,
   "metadata": {
    "colab": {
     "base_uri": "https://localhost:8080/"
    },
    "id": "yONJwl9vpFoe",
    "outputId": "c0822e80-82c2-4c36-90b9-a13b28c1da49"
   },
   "outputs": [
    {
     "data": {
      "text/plain": [
       "torch.Size([150])"
      ]
     },
     "execution_count": 81,
     "metadata": {},
     "output_type": "execute_result"
    }
   ],
   "source": [
    "Y.shape"
   ]
  },
  {
   "cell_type": "code",
   "execution_count": 82,
   "metadata": {
    "colab": {
     "base_uri": "https://localhost:8080/"
    },
    "id": "_DrvRkQJPaEC",
    "outputId": "8b545755-f504-4769-d648-c120d2824905"
   },
   "outputs": [
    {
     "name": "stdout",
     "output_type": "stream",
     "text": [
      "Num params:  111\n"
     ]
    },
    {
     "name": "stderr",
     "output_type": "stream",
     "text": [
      "  1%|          | 1/100 [00:32<53:43, 32.56s/it]"
     ]
    },
    {
     "name": "stdout",
     "output_type": "stream",
     "text": [
      "Iter:     1 | Cost: 0.9149014 | Acc train: 0.1875000 | Acc test: 0.2631579 \n"
     ]
    },
    {
     "name": "stderr",
     "output_type": "stream",
     "text": [
      "  2%|▏         | 2/100 [01:05<53:27, 32.73s/it]"
     ]
    },
    {
     "name": "stdout",
     "output_type": "stream",
     "text": [
      "Iter:     2 | Cost: 1.0486752 | Acc train: 0.2589286 | Acc test: 0.3157895 \n"
     ]
    },
    {
     "name": "stderr",
     "output_type": "stream",
     "text": [
      "  3%|▎         | 3/100 [01:38<52:59, 32.78s/it]"
     ]
    },
    {
     "name": "stdout",
     "output_type": "stream",
     "text": [
      "Iter:     3 | Cost: 0.6612174 | Acc train: 0.3214286 | Acc test: 0.2894737 \n"
     ]
    },
    {
     "name": "stderr",
     "output_type": "stream",
     "text": [
      "  4%|▍         | 4/100 [02:11<52:37, 32.89s/it]"
     ]
    },
    {
     "name": "stdout",
     "output_type": "stream",
     "text": [
      "Iter:     4 | Cost: 0.4674343 | Acc train: 0.4107143 | Acc test: 0.3947368 \n"
     ]
    },
    {
     "name": "stderr",
     "output_type": "stream",
     "text": [
      "  5%|▌         | 5/100 [02:44<52:05, 32.90s/it]"
     ]
    },
    {
     "name": "stdout",
     "output_type": "stream",
     "text": [
      "Iter:     5 | Cost: 0.3866314 | Acc train: 0.5267857 | Acc test: 0.5263158 \n"
     ]
    },
    {
     "name": "stderr",
     "output_type": "stream",
     "text": [
      "  6%|▌         | 6/100 [03:16<51:00, 32.55s/it]"
     ]
    },
    {
     "name": "stdout",
     "output_type": "stream",
     "text": [
      "Iter:     6 | Cost: 0.3405792 | Acc train: 0.5714286 | Acc test: 0.6052632 \n"
     ]
    },
    {
     "name": "stderr",
     "output_type": "stream",
     "text": [
      "  7%|▋         | 7/100 [03:49<50:56, 32.87s/it]"
     ]
    },
    {
     "name": "stdout",
     "output_type": "stream",
     "text": [
      "Iter:     7 | Cost: 0.2002738 | Acc train: 0.5803571 | Acc test: 0.6052632 \n"
     ]
    },
    {
     "name": "stderr",
     "output_type": "stream",
     "text": [
      "  8%|▊         | 8/100 [04:22<50:27, 32.91s/it]"
     ]
    },
    {
     "name": "stdout",
     "output_type": "stream",
     "text": [
      "Iter:     8 | Cost: 0.2488741 | Acc train: 0.5892857 | Acc test: 0.6315789 \n"
     ]
    },
    {
     "name": "stderr",
     "output_type": "stream",
     "text": [
      "  9%|▉         | 9/100 [04:54<49:27, 32.61s/it]"
     ]
    },
    {
     "name": "stdout",
     "output_type": "stream",
     "text": [
      "Iter:     9 | Cost: 0.2335552 | Acc train: 0.6160714 | Acc test: 0.6052632 \n"
     ]
    },
    {
     "name": "stderr",
     "output_type": "stream",
     "text": [
      " 10%|█         | 10/100 [05:27<49:01, 32.68s/it]"
     ]
    },
    {
     "name": "stdout",
     "output_type": "stream",
     "text": [
      "Iter:    10 | Cost: 0.1525749 | Acc train: 0.6696429 | Acc test: 0.6052632 \n"
     ]
    },
    {
     "name": "stderr",
     "output_type": "stream",
     "text": [
      " 11%|█         | 11/100 [06:00<48:35, 32.76s/it]"
     ]
    },
    {
     "name": "stdout",
     "output_type": "stream",
     "text": [
      "Iter:    11 | Cost: 0.1824511 | Acc train: 0.6875000 | Acc test: 0.6052632 \n"
     ]
    },
    {
     "name": "stderr",
     "output_type": "stream",
     "text": [
      " 12%|█▏        | 12/100 [06:31<47:25, 32.34s/it]"
     ]
    },
    {
     "name": "stdout",
     "output_type": "stream",
     "text": [
      "Iter:    12 | Cost: 0.1133284 | Acc train: 0.6964286 | Acc test: 0.6052632 \n"
     ]
    },
    {
     "name": "stderr",
     "output_type": "stream",
     "text": [
      " 13%|█▎        | 13/100 [07:05<47:41, 32.89s/it]"
     ]
    },
    {
     "name": "stdout",
     "output_type": "stream",
     "text": [
      "Iter:    13 | Cost: 0.1473773 | Acc train: 0.7142857 | Acc test: 0.6052632 \n"
     ]
    },
    {
     "name": "stderr",
     "output_type": "stream",
     "text": [
      " 14%|█▍        | 14/100 [07:38<46:57, 32.77s/it]"
     ]
    },
    {
     "name": "stdout",
     "output_type": "stream",
     "text": [
      "Iter:    14 | Cost: 0.1706936 | Acc train: 0.7500000 | Acc test: 0.6052632 \n"
     ]
    },
    {
     "name": "stderr",
     "output_type": "stream",
     "text": [
      " 15%|█▌        | 15/100 [08:10<46:01, 32.49s/it]"
     ]
    },
    {
     "name": "stdout",
     "output_type": "stream",
     "text": [
      "Iter:    15 | Cost: 0.0637935 | Acc train: 0.7500000 | Acc test: 0.6052632 \n"
     ]
    },
    {
     "name": "stderr",
     "output_type": "stream",
     "text": [
      " 16%|█▌        | 16/100 [08:42<45:25, 32.45s/it]"
     ]
    },
    {
     "name": "stdout",
     "output_type": "stream",
     "text": [
      "Iter:    16 | Cost: 0.1134352 | Acc train: 0.7589286 | Acc test: 0.6315789 \n"
     ]
    },
    {
     "name": "stderr",
     "output_type": "stream",
     "text": [
      " 17%|█▋        | 17/100 [09:15<44:56, 32.49s/it]"
     ]
    },
    {
     "name": "stdout",
     "output_type": "stream",
     "text": [
      "Iter:    17 | Cost: 0.0852669 | Acc train: 0.7767857 | Acc test: 0.6578947 \n"
     ]
    },
    {
     "name": "stderr",
     "output_type": "stream",
     "text": [
      " 18%|█▊        | 18/100 [09:49<44:57, 32.90s/it]"
     ]
    },
    {
     "name": "stdout",
     "output_type": "stream",
     "text": [
      "Iter:    18 | Cost: 0.0707614 | Acc train: 0.7946429 | Acc test: 0.6578947 \n"
     ]
    },
    {
     "name": "stderr",
     "output_type": "stream",
     "text": [
      " 19%|█▉        | 19/100 [10:21<44:16, 32.80s/it]"
     ]
    },
    {
     "name": "stdout",
     "output_type": "stream",
     "text": [
      "Iter:    19 | Cost: 0.0837225 | Acc train: 0.8035714 | Acc test: 0.6842105 \n"
     ]
    },
    {
     "name": "stderr",
     "output_type": "stream",
     "text": [
      " 20%|██        | 20/100 [10:54<43:45, 32.82s/it]"
     ]
    },
    {
     "name": "stdout",
     "output_type": "stream",
     "text": [
      "Iter:    20 | Cost: 0.0305896 | Acc train: 0.8035714 | Acc test: 0.6842105 \n"
     ]
    },
    {
     "name": "stderr",
     "output_type": "stream",
     "text": [
      " 21%|██        | 21/100 [11:26<43:01, 32.68s/it]"
     ]
    },
    {
     "name": "stdout",
     "output_type": "stream",
     "text": [
      "Iter:    21 | Cost: 0.1057078 | Acc train: 0.8035714 | Acc test: 0.7105263 \n"
     ]
    },
    {
     "name": "stderr",
     "output_type": "stream",
     "text": [
      " 22%|██▏       | 22/100 [11:58<42:14, 32.50s/it]"
     ]
    },
    {
     "name": "stdout",
     "output_type": "stream",
     "text": [
      "Iter:    22 | Cost: 0.0826618 | Acc train: 0.8035714 | Acc test: 0.7105263 \n"
     ]
    },
    {
     "name": "stderr",
     "output_type": "stream",
     "text": [
      " 23%|██▎       | 23/100 [12:31<41:43, 32.51s/it]"
     ]
    },
    {
     "name": "stdout",
     "output_type": "stream",
     "text": [
      "Iter:    23 | Cost: 0.1206661 | Acc train: 0.8214286 | Acc test: 0.7105263 \n"
     ]
    },
    {
     "name": "stderr",
     "output_type": "stream",
     "text": [
      " 24%|██▍       | 24/100 [13:03<41:09, 32.49s/it]"
     ]
    },
    {
     "name": "stdout",
     "output_type": "stream",
     "text": [
      "Iter:    24 | Cost: 0.0736973 | Acc train: 0.8214286 | Acc test: 0.7105263 \n"
     ]
    },
    {
     "name": "stderr",
     "output_type": "stream",
     "text": [
      " 25%|██▌       | 25/100 [13:36<40:31, 32.42s/it]"
     ]
    },
    {
     "name": "stdout",
     "output_type": "stream",
     "text": [
      "Iter:    25 | Cost: 0.0042390 | Acc train: 0.8125000 | Acc test: 0.7105263 \n"
     ]
    },
    {
     "name": "stderr",
     "output_type": "stream",
     "text": [
      " 26%|██▌       | 26/100 [14:08<39:51, 32.31s/it]"
     ]
    },
    {
     "name": "stdout",
     "output_type": "stream",
     "text": [
      "Iter:    26 | Cost: 0.0887015 | Acc train: 0.8125000 | Acc test: 0.7105263 \n"
     ]
    },
    {
     "name": "stderr",
     "output_type": "stream",
     "text": [
      " 27%|██▋       | 27/100 [14:39<39:00, 32.06s/it]"
     ]
    },
    {
     "name": "stdout",
     "output_type": "stream",
     "text": [
      "Iter:    27 | Cost: 0.0030371 | Acc train: 0.8125000 | Acc test: 0.7105263 \n"
     ]
    },
    {
     "name": "stderr",
     "output_type": "stream",
     "text": [
      " 28%|██▊       | 28/100 [15:12<38:43, 32.27s/it]"
     ]
    },
    {
     "name": "stdout",
     "output_type": "stream",
     "text": [
      "Iter:    28 | Cost: 0.0613685 | Acc train: 0.8125000 | Acc test: 0.7105263 \n"
     ]
    },
    {
     "name": "stderr",
     "output_type": "stream",
     "text": [
      " 29%|██▉       | 29/100 [15:45<38:19, 32.38s/it]"
     ]
    },
    {
     "name": "stdout",
     "output_type": "stream",
     "text": [
      "Iter:    29 | Cost: 0.0881363 | Acc train: 0.8125000 | Acc test: 0.7368421 \n"
     ]
    },
    {
     "name": "stderr",
     "output_type": "stream",
     "text": [
      " 30%|███       | 30/100 [16:17<37:58, 32.55s/it]"
     ]
    },
    {
     "name": "stdout",
     "output_type": "stream",
     "text": [
      "Iter:    30 | Cost: 0.0400559 | Acc train: 0.8125000 | Acc test: 0.7368421 \n"
     ]
    },
    {
     "name": "stderr",
     "output_type": "stream",
     "text": [
      " 31%|███       | 31/100 [16:51<37:44, 32.81s/it]"
     ]
    },
    {
     "name": "stdout",
     "output_type": "stream",
     "text": [
      "Iter:    31 | Cost: 0.0559145 | Acc train: 0.8125000 | Acc test: 0.7368421 \n"
     ]
    },
    {
     "name": "stderr",
     "output_type": "stream",
     "text": [
      " 32%|███▏      | 32/100 [17:24<37:20, 32.95s/it]"
     ]
    },
    {
     "name": "stdout",
     "output_type": "stream",
     "text": [
      "Iter:    32 | Cost: 0.0777577 | Acc train: 0.8125000 | Acc test: 0.7368421 \n"
     ]
    },
    {
     "name": "stderr",
     "output_type": "stream",
     "text": [
      " 33%|███▎      | 33/100 [17:57<36:54, 33.04s/it]"
     ]
    },
    {
     "name": "stdout",
     "output_type": "stream",
     "text": [
      "Iter:    33 | Cost: 0.0806659 | Acc train: 0.8125000 | Acc test: 0.7368421 \n"
     ]
    },
    {
     "name": "stderr",
     "output_type": "stream",
     "text": [
      " 34%|███▍      | 34/100 [18:30<36:10, 32.89s/it]"
     ]
    },
    {
     "name": "stdout",
     "output_type": "stream",
     "text": [
      "Iter:    34 | Cost: 0.0001208 | Acc train: 0.8125000 | Acc test: 0.7368421 \n"
     ]
    },
    {
     "name": "stderr",
     "output_type": "stream",
     "text": [
      " 35%|███▌      | 35/100 [19:04<35:59, 33.23s/it]"
     ]
    },
    {
     "name": "stdout",
     "output_type": "stream",
     "text": [
      "Iter:    35 | Cost: 0.0629116 | Acc train: 0.8125000 | Acc test: 0.7368421 \n"
     ]
    },
    {
     "name": "stderr",
     "output_type": "stream",
     "text": [
      " 36%|███▌      | 36/100 [19:37<35:27, 33.25s/it]"
     ]
    },
    {
     "name": "stdout",
     "output_type": "stream",
     "text": [
      "Iter:    36 | Cost: 0.0812488 | Acc train: 0.8125000 | Acc test: 0.7368421 \n"
     ]
    },
    {
     "name": "stderr",
     "output_type": "stream",
     "text": [
      " 37%|███▋      | 37/100 [20:10<34:53, 33.24s/it]"
     ]
    },
    {
     "name": "stdout",
     "output_type": "stream",
     "text": [
      "Iter:    37 | Cost: 0.0345224 | Acc train: 0.8125000 | Acc test: 0.7368421 \n"
     ]
    },
    {
     "name": "stderr",
     "output_type": "stream",
     "text": [
      " 38%|███▊      | 38/100 [20:43<34:12, 33.11s/it]"
     ]
    },
    {
     "name": "stdout",
     "output_type": "stream",
     "text": [
      "Iter:    38 | Cost: 0.0389222 | Acc train: 0.8125000 | Acc test: 0.7368421 \n"
     ]
    },
    {
     "name": "stderr",
     "output_type": "stream",
     "text": [
      " 39%|███▉      | 39/100 [21:17<33:47, 33.24s/it]"
     ]
    },
    {
     "name": "stdout",
     "output_type": "stream",
     "text": [
      "Iter:    39 | Cost: 0.0730633 | Acc train: 0.8035714 | Acc test: 0.7368421 \n"
     ]
    },
    {
     "name": "stderr",
     "output_type": "stream",
     "text": [
      " 40%|████      | 40/100 [21:50<33:18, 33.32s/it]"
     ]
    },
    {
     "name": "stdout",
     "output_type": "stream",
     "text": [
      "Iter:    40 | Cost: 0.0675786 | Acc train: 0.8035714 | Acc test: 0.7105263 \n"
     ]
    },
    {
     "name": "stderr",
     "output_type": "stream",
     "text": [
      " 41%|████      | 41/100 [22:25<33:08, 33.70s/it]"
     ]
    },
    {
     "name": "stdout",
     "output_type": "stream",
     "text": [
      "Iter:    41 | Cost: 0.0000000 | Acc train: 0.8035714 | Acc test: 0.7105263 \n"
     ]
    },
    {
     "name": "stderr",
     "output_type": "stream",
     "text": [
      " 42%|████▏     | 42/100 [22:58<32:17, 33.41s/it]"
     ]
    },
    {
     "name": "stdout",
     "output_type": "stream",
     "text": [
      "Iter:    42 | Cost: 0.0743748 | Acc train: 0.8035714 | Acc test: 0.7105263 \n"
     ]
    },
    {
     "name": "stderr",
     "output_type": "stream",
     "text": [
      " 43%|████▎     | 43/100 [23:32<31:52, 33.56s/it]"
     ]
    },
    {
     "name": "stdout",
     "output_type": "stream",
     "text": [
      "Iter:    43 | Cost: 0.1456047 | Acc train: 0.8035714 | Acc test: 0.7105263 \n"
     ]
    },
    {
     "name": "stderr",
     "output_type": "stream",
     "text": [
      " 44%|████▍     | 44/100 [24:05<31:17, 33.52s/it]"
     ]
    },
    {
     "name": "stdout",
     "output_type": "stream",
     "text": [
      "Iter:    44 | Cost: 0.0283146 | Acc train: 0.8035714 | Acc test: 0.7105263 \n"
     ]
    },
    {
     "name": "stderr",
     "output_type": "stream",
     "text": [
      " 45%|████▌     | 45/100 [24:38<30:29, 33.26s/it]"
     ]
    },
    {
     "name": "stdout",
     "output_type": "stream",
     "text": [
      "Iter:    45 | Cost: 0.0715941 | Acc train: 0.8125000 | Acc test: 0.7105263 \n"
     ]
    },
    {
     "name": "stderr",
     "output_type": "stream",
     "text": [
      " 46%|████▌     | 46/100 [25:11<30:03, 33.40s/it]"
     ]
    },
    {
     "name": "stdout",
     "output_type": "stream",
     "text": [
      "Iter:    46 | Cost: 0.0313337 | Acc train: 0.8125000 | Acc test: 0.7105263 \n"
     ]
    },
    {
     "name": "stderr",
     "output_type": "stream",
     "text": [
      " 47%|████▋     | 47/100 [25:44<29:21, 33.24s/it]"
     ]
    },
    {
     "name": "stdout",
     "output_type": "stream",
     "text": [
      "Iter:    47 | Cost: 0.0375294 | Acc train: 0.8125000 | Acc test: 0.7105263 \n"
     ]
    },
    {
     "name": "stderr",
     "output_type": "stream",
     "text": [
      " 48%|████▊     | 48/100 [26:18<28:49, 33.25s/it]"
     ]
    },
    {
     "name": "stdout",
     "output_type": "stream",
     "text": [
      "Iter:    48 | Cost: 0.0792135 | Acc train: 0.8125000 | Acc test: 0.7105263 \n"
     ]
    },
    {
     "name": "stderr",
     "output_type": "stream",
     "text": [
      " 49%|████▉     | 49/100 [26:50<28:07, 33.09s/it]"
     ]
    },
    {
     "name": "stdout",
     "output_type": "stream",
     "text": [
      "Iter:    49 | Cost: 0.0000000 | Acc train: 0.8125000 | Acc test: 0.7105263 \n"
     ]
    },
    {
     "name": "stderr",
     "output_type": "stream",
     "text": [
      " 50%|█████     | 50/100 [27:23<27:35, 33.10s/it]"
     ]
    },
    {
     "name": "stdout",
     "output_type": "stream",
     "text": [
      "Iter:    50 | Cost: 0.0736027 | Acc train: 0.8214286 | Acc test: 0.7105263 \n"
     ]
    },
    {
     "name": "stderr",
     "output_type": "stream",
     "text": [
      " 51%|█████     | 51/100 [27:56<26:57, 33.01s/it]"
     ]
    },
    {
     "name": "stdout",
     "output_type": "stream",
     "text": [
      "Iter:    51 | Cost: 0.0512702 | Acc train: 0.8214286 | Acc test: 0.7105263 \n"
     ]
    },
    {
     "name": "stderr",
     "output_type": "stream",
     "text": [
      " 52%|█████▏    | 52/100 [28:29<26:26, 33.06s/it]"
     ]
    },
    {
     "name": "stdout",
     "output_type": "stream",
     "text": [
      "Iter:    52 | Cost: 0.0692553 | Acc train: 0.8214286 | Acc test: 0.7105263 \n"
     ]
    },
    {
     "name": "stderr",
     "output_type": "stream",
     "text": [
      " 53%|█████▎    | 53/100 [29:02<25:49, 32.97s/it]"
     ]
    },
    {
     "name": "stdout",
     "output_type": "stream",
     "text": [
      "Iter:    53 | Cost: 0.1084488 | Acc train: 0.8214286 | Acc test: 0.7105263 \n"
     ]
    },
    {
     "name": "stderr",
     "output_type": "stream",
     "text": [
      " 54%|█████▍    | 54/100 [29:35<25:22, 33.09s/it]"
     ]
    },
    {
     "name": "stdout",
     "output_type": "stream",
     "text": [
      "Iter:    54 | Cost: 0.0382624 | Acc train: 0.8214286 | Acc test: 0.7105263 \n"
     ]
    },
    {
     "name": "stderr",
     "output_type": "stream",
     "text": [
      " 55%|█████▌    | 55/100 [30:09<24:49, 33.10s/it]"
     ]
    },
    {
     "name": "stdout",
     "output_type": "stream",
     "text": [
      "Iter:    55 | Cost: 0.0616945 | Acc train: 0.8214286 | Acc test: 0.7105263 \n"
     ]
    },
    {
     "name": "stderr",
     "output_type": "stream",
     "text": [
      " 56%|█████▌    | 56/100 [30:41<24:11, 32.98s/it]"
     ]
    },
    {
     "name": "stdout",
     "output_type": "stream",
     "text": [
      "Iter:    56 | Cost: 0.0453179 | Acc train: 0.8214286 | Acc test: 0.7105263 \n"
     ]
    },
    {
     "name": "stderr",
     "output_type": "stream",
     "text": [
      " 57%|█████▋    | 57/100 [31:15<23:47, 33.21s/it]"
     ]
    },
    {
     "name": "stdout",
     "output_type": "stream",
     "text": [
      "Iter:    57 | Cost: 0.1309728 | Acc train: 0.8214286 | Acc test: 0.7368421 \n"
     ]
    },
    {
     "name": "stderr",
     "output_type": "stream",
     "text": [
      " 58%|█████▊    | 58/100 [31:48<23:13, 33.17s/it]"
     ]
    },
    {
     "name": "stdout",
     "output_type": "stream",
     "text": [
      "Iter:    58 | Cost: 0.0096100 | Acc train: 0.8214286 | Acc test: 0.7368421 \n"
     ]
    },
    {
     "name": "stderr",
     "output_type": "stream",
     "text": [
      " 59%|█████▉    | 59/100 [32:21<22:31, 32.96s/it]"
     ]
    },
    {
     "name": "stdout",
     "output_type": "stream",
     "text": [
      "Iter:    59 | Cost: 0.0016284 | Acc train: 0.8214286 | Acc test: 0.7368421 \n"
     ]
    },
    {
     "name": "stderr",
     "output_type": "stream",
     "text": [
      " 60%|██████    | 60/100 [32:53<21:49, 32.74s/it]"
     ]
    },
    {
     "name": "stdout",
     "output_type": "stream",
     "text": [
      "Iter:    60 | Cost: 0.1173209 | Acc train: 0.8214286 | Acc test: 0.7368421 \n"
     ]
    },
    {
     "name": "stderr",
     "output_type": "stream",
     "text": [
      " 61%|██████    | 61/100 [33:26<21:18, 32.79s/it]"
     ]
    },
    {
     "name": "stdout",
     "output_type": "stream",
     "text": [
      "Iter:    61 | Cost: 0.0447729 | Acc train: 0.8125000 | Acc test: 0.7368421 \n"
     ]
    },
    {
     "name": "stderr",
     "output_type": "stream",
     "text": [
      " 62%|██████▏   | 62/100 [33:59<20:46, 32.81s/it]"
     ]
    },
    {
     "name": "stdout",
     "output_type": "stream",
     "text": [
      "Iter:    62 | Cost: 0.1661234 | Acc train: 0.8125000 | Acc test: 0.7368421 \n"
     ]
    },
    {
     "name": "stderr",
     "output_type": "stream",
     "text": [
      " 63%|██████▎   | 63/100 [34:31<20:12, 32.76s/it]"
     ]
    },
    {
     "name": "stdout",
     "output_type": "stream",
     "text": [
      "Iter:    63 | Cost: 0.0611028 | Acc train: 0.8125000 | Acc test: 0.7368421 \n"
     ]
    },
    {
     "name": "stderr",
     "output_type": "stream",
     "text": [
      " 64%|██████▍   | 64/100 [35:04<19:38, 32.73s/it]"
     ]
    },
    {
     "name": "stdout",
     "output_type": "stream",
     "text": [
      "Iter:    64 | Cost: 0.0034297 | Acc train: 0.8125000 | Acc test: 0.7368421 \n"
     ]
    },
    {
     "name": "stderr",
     "output_type": "stream",
     "text": [
      " 65%|██████▌   | 65/100 [35:37<19:07, 32.77s/it]"
     ]
    },
    {
     "name": "stdout",
     "output_type": "stream",
     "text": [
      "Iter:    65 | Cost: 0.0658546 | Acc train: 0.8125000 | Acc test: 0.7368421 \n"
     ]
    },
    {
     "name": "stderr",
     "output_type": "stream",
     "text": [
      " 66%|██████▌   | 66/100 [36:09<18:28, 32.59s/it]"
     ]
    },
    {
     "name": "stdout",
     "output_type": "stream",
     "text": [
      "Iter:    66 | Cost: 0.0383655 | Acc train: 0.8125000 | Acc test: 0.7368421 \n"
     ]
    },
    {
     "name": "stderr",
     "output_type": "stream",
     "text": [
      " 67%|██████▋   | 67/100 [36:42<17:56, 32.61s/it]"
     ]
    },
    {
     "name": "stdout",
     "output_type": "stream",
     "text": [
      "Iter:    67 | Cost: 0.0301467 | Acc train: 0.8125000 | Acc test: 0.7368421 \n"
     ]
    },
    {
     "name": "stderr",
     "output_type": "stream",
     "text": [
      " 68%|██████▊   | 68/100 [37:14<17:21, 32.56s/it]"
     ]
    },
    {
     "name": "stdout",
     "output_type": "stream",
     "text": [
      "Iter:    68 | Cost: 0.0673040 | Acc train: 0.8125000 | Acc test: 0.7368421 \n"
     ]
    },
    {
     "name": "stderr",
     "output_type": "stream",
     "text": [
      " 69%|██████▉   | 69/100 [37:46<16:48, 32.54s/it]"
     ]
    },
    {
     "name": "stdout",
     "output_type": "stream",
     "text": [
      "Iter:    69 | Cost: 0.0625409 | Acc train: 0.8125000 | Acc test: 0.7368421 \n"
     ]
    },
    {
     "name": "stderr",
     "output_type": "stream",
     "text": [
      " 70%|███████   | 70/100 [38:19<16:15, 32.51s/it]"
     ]
    },
    {
     "name": "stdout",
     "output_type": "stream",
     "text": [
      "Iter:    70 | Cost: 0.0316721 | Acc train: 0.8125000 | Acc test: 0.7368421 \n"
     ]
    },
    {
     "name": "stderr",
     "output_type": "stream",
     "text": [
      " 71%|███████   | 71/100 [38:51<15:42, 32.51s/it]"
     ]
    },
    {
     "name": "stdout",
     "output_type": "stream",
     "text": [
      "Iter:    71 | Cost: 0.0465808 | Acc train: 0.8125000 | Acc test: 0.7368421 \n"
     ]
    },
    {
     "name": "stderr",
     "output_type": "stream",
     "text": [
      " 72%|███████▏  | 72/100 [39:23<15:03, 32.28s/it]"
     ]
    },
    {
     "name": "stdout",
     "output_type": "stream",
     "text": [
      "Iter:    72 | Cost: 0.0368054 | Acc train: 0.8214286 | Acc test: 0.7368421 \n"
     ]
    },
    {
     "name": "stderr",
     "output_type": "stream",
     "text": [
      " 73%|███████▎  | 73/100 [39:56<14:37, 32.49s/it]"
     ]
    },
    {
     "name": "stdout",
     "output_type": "stream",
     "text": [
      "Iter:    73 | Cost: 0.0843932 | Acc train: 0.8214286 | Acc test: 0.7368421 \n"
     ]
    },
    {
     "name": "stderr",
     "output_type": "stream",
     "text": [
      " 74%|███████▍  | 74/100 [40:30<14:14, 32.88s/it]"
     ]
    },
    {
     "name": "stdout",
     "output_type": "stream",
     "text": [
      "Iter:    74 | Cost: 0.0417564 | Acc train: 0.8214286 | Acc test: 0.7368421 \n"
     ]
    },
    {
     "name": "stderr",
     "output_type": "stream",
     "text": [
      " 75%|███████▌  | 75/100 [41:02<13:36, 32.64s/it]"
     ]
    },
    {
     "name": "stdout",
     "output_type": "stream",
     "text": [
      "Iter:    75 | Cost: 0.0053164 | Acc train: 0.8214286 | Acc test: 0.7368421 \n"
     ]
    },
    {
     "name": "stderr",
     "output_type": "stream",
     "text": [
      " 76%|███████▌  | 76/100 [41:35<13:02, 32.62s/it]"
     ]
    },
    {
     "name": "stdout",
     "output_type": "stream",
     "text": [
      "Iter:    76 | Cost: 0.0326342 | Acc train: 0.8214286 | Acc test: 0.7368421 \n"
     ]
    },
    {
     "name": "stderr",
     "output_type": "stream",
     "text": [
      " 77%|███████▋  | 77/100 [42:07<12:32, 32.70s/it]"
     ]
    },
    {
     "name": "stdout",
     "output_type": "stream",
     "text": [
      "Iter:    77 | Cost: 0.1113264 | Acc train: 0.8214286 | Acc test: 0.7368421 \n"
     ]
    },
    {
     "name": "stderr",
     "output_type": "stream",
     "text": [
      " 78%|███████▊  | 78/100 [42:41<12:05, 32.97s/it]"
     ]
    },
    {
     "name": "stdout",
     "output_type": "stream",
     "text": [
      "Iter:    78 | Cost: 0.0756346 | Acc train: 0.8214286 | Acc test: 0.7368421 \n"
     ]
    },
    {
     "name": "stderr",
     "output_type": "stream",
     "text": [
      " 79%|███████▉  | 79/100 [43:13<11:28, 32.80s/it]"
     ]
    },
    {
     "name": "stdout",
     "output_type": "stream",
     "text": [
      "Iter:    79 | Cost: 0.0040342 | Acc train: 0.8303571 | Acc test: 0.7368421 \n"
     ]
    },
    {
     "name": "stderr",
     "output_type": "stream",
     "text": [
      " 80%|████████  | 80/100 [43:47<11:02, 33.14s/it]"
     ]
    },
    {
     "name": "stdout",
     "output_type": "stream",
     "text": [
      "Iter:    80 | Cost: 0.0625063 | Acc train: 0.8303571 | Acc test: 0.7368421 \n"
     ]
    },
    {
     "name": "stderr",
     "output_type": "stream",
     "text": [
      " 81%|████████  | 81/100 [44:20<10:27, 33.04s/it]"
     ]
    },
    {
     "name": "stdout",
     "output_type": "stream",
     "text": [
      "Iter:    81 | Cost: 0.0767986 | Acc train: 0.8303571 | Acc test: 0.7368421 \n"
     ]
    },
    {
     "name": "stderr",
     "output_type": "stream",
     "text": [
      " 82%|████████▏ | 82/100 [44:53<09:50, 32.82s/it]"
     ]
    },
    {
     "name": "stdout",
     "output_type": "stream",
     "text": [
      "Iter:    82 | Cost: 0.0671623 | Acc train: 0.8303571 | Acc test: 0.7368421 \n"
     ]
    },
    {
     "name": "stderr",
     "output_type": "stream",
     "text": [
      " 83%|████████▎ | 83/100 [45:26<09:18, 32.88s/it]"
     ]
    },
    {
     "name": "stdout",
     "output_type": "stream",
     "text": [
      "Iter:    83 | Cost: 0.0322016 | Acc train: 0.8303571 | Acc test: 0.7368421 \n"
     ]
    },
    {
     "name": "stderr",
     "output_type": "stream",
     "text": [
      " 84%|████████▍ | 84/100 [45:58<08:45, 32.82s/it]"
     ]
    },
    {
     "name": "stdout",
     "output_type": "stream",
     "text": [
      "Iter:    84 | Cost: 0.1773653 | Acc train: 0.8303571 | Acc test: 0.7368421 \n"
     ]
    },
    {
     "name": "stderr",
     "output_type": "stream",
     "text": [
      " 85%|████████▌ | 85/100 [46:30<08:07, 32.51s/it]"
     ]
    },
    {
     "name": "stdout",
     "output_type": "stream",
     "text": [
      "Iter:    85 | Cost: 0.0707953 | Acc train: 0.8303571 | Acc test: 0.7368421 \n"
     ]
    },
    {
     "name": "stderr",
     "output_type": "stream",
     "text": [
      " 86%|████████▌ | 86/100 [47:03<07:38, 32.77s/it]"
     ]
    },
    {
     "name": "stdout",
     "output_type": "stream",
     "text": [
      "Iter:    86 | Cost: 0.0273671 | Acc train: 0.8303571 | Acc test: 0.7368421 \n"
     ]
    },
    {
     "name": "stderr",
     "output_type": "stream",
     "text": [
      " 87%|████████▋ | 87/100 [47:36<07:05, 32.75s/it]"
     ]
    },
    {
     "name": "stdout",
     "output_type": "stream",
     "text": [
      "Iter:    87 | Cost: 0.0976038 | Acc train: 0.8303571 | Acc test: 0.7368421 \n"
     ]
    },
    {
     "name": "stderr",
     "output_type": "stream",
     "text": [
      " 88%|████████▊ | 88/100 [48:08<06:29, 32.49s/it]"
     ]
    },
    {
     "name": "stdout",
     "output_type": "stream",
     "text": [
      "Iter:    88 | Cost: 0.0335638 | Acc train: 0.8303571 | Acc test: 0.7368421 \n"
     ]
    },
    {
     "name": "stderr",
     "output_type": "stream",
     "text": [
      " 89%|████████▉ | 89/100 [48:41<05:57, 32.52s/it]"
     ]
    },
    {
     "name": "stdout",
     "output_type": "stream",
     "text": [
      "Iter:    89 | Cost: 0.1162900 | Acc train: 0.8303571 | Acc test: 0.7368421 \n"
     ]
    },
    {
     "name": "stderr",
     "output_type": "stream",
     "text": [
      " 90%|█████████ | 90/100 [49:13<05:26, 32.62s/it]"
     ]
    },
    {
     "name": "stdout",
     "output_type": "stream",
     "text": [
      "Iter:    90 | Cost: 0.0868435 | Acc train: 0.8303571 | Acc test: 0.7368421 \n"
     ]
    },
    {
     "name": "stderr",
     "output_type": "stream",
     "text": [
      " 91%|█████████ | 91/100 [49:47<04:55, 32.83s/it]"
     ]
    },
    {
     "name": "stdout",
     "output_type": "stream",
     "text": [
      "Iter:    91 | Cost: 0.0992217 | Acc train: 0.8303571 | Acc test: 0.7368421 \n"
     ]
    },
    {
     "name": "stderr",
     "output_type": "stream",
     "text": [
      " 92%|█████████▏| 92/100 [50:19<04:20, 32.58s/it]"
     ]
    },
    {
     "name": "stdout",
     "output_type": "stream",
     "text": [
      "Iter:    92 | Cost: 0.0781831 | Acc train: 0.8303571 | Acc test: 0.7105263 \n"
     ]
    },
    {
     "name": "stderr",
     "output_type": "stream",
     "text": [
      " 93%|█████████▎| 93/100 [50:51<03:48, 32.58s/it]"
     ]
    },
    {
     "name": "stdout",
     "output_type": "stream",
     "text": [
      "Iter:    93 | Cost: 0.0629089 | Acc train: 0.8303571 | Acc test: 0.7105263 \n"
     ]
    },
    {
     "name": "stderr",
     "output_type": "stream",
     "text": [
      " 94%|█████████▍| 94/100 [51:24<03:15, 32.59s/it]"
     ]
    },
    {
     "name": "stdout",
     "output_type": "stream",
     "text": [
      "Iter:    94 | Cost: 0.0731003 | Acc train: 0.8303571 | Acc test: 0.7105263 \n"
     ]
    },
    {
     "name": "stderr",
     "output_type": "stream",
     "text": [
      " 95%|█████████▌| 95/100 [51:56<02:41, 32.40s/it]"
     ]
    },
    {
     "name": "stdout",
     "output_type": "stream",
     "text": [
      "Iter:    95 | Cost: 0.0860267 | Acc train: 0.8303571 | Acc test: 0.7105263 \n"
     ]
    },
    {
     "name": "stderr",
     "output_type": "stream",
     "text": [
      " 96%|█████████▌| 96/100 [52:28<02:09, 32.36s/it]"
     ]
    },
    {
     "name": "stdout",
     "output_type": "stream",
     "text": [
      "Iter:    96 | Cost: 0.0118655 | Acc train: 0.8303571 | Acc test: 0.7105263 \n"
     ]
    },
    {
     "name": "stderr",
     "output_type": "stream",
     "text": [
      " 97%|█████████▋| 97/100 [53:02<01:38, 32.73s/it]"
     ]
    },
    {
     "name": "stdout",
     "output_type": "stream",
     "text": [
      "Iter:    97 | Cost: 0.0978371 | Acc train: 0.8303571 | Acc test: 0.7105263 \n"
     ]
    },
    {
     "name": "stderr",
     "output_type": "stream",
     "text": [
      " 98%|█████████▊| 98/100 [53:34<01:05, 32.57s/it]"
     ]
    },
    {
     "name": "stdout",
     "output_type": "stream",
     "text": [
      "Iter:    98 | Cost: 0.0006717 | Acc train: 0.8303571 | Acc test: 0.7105263 \n"
     ]
    },
    {
     "name": "stderr",
     "output_type": "stream",
     "text": [
      " 99%|█████████▉| 99/100 [54:07<00:32, 32.60s/it]"
     ]
    },
    {
     "name": "stdout",
     "output_type": "stream",
     "text": [
      "Iter:    99 | Cost: 0.0377787 | Acc train: 0.8303571 | Acc test: 0.7105263 \n"
     ]
    },
    {
     "name": "stderr",
     "output_type": "stream",
     "text": [
      "100%|██████████| 100/100 [54:39<00:00, 32.80s/it]"
     ]
    },
    {
     "name": "stdout",
     "output_type": "stream",
     "text": [
      "Iter:   100 | Cost: 0.1000327 | Acc train: 0.8303571 | Acc test: 0.7105263 \n"
     ]
    },
    {
     "name": "stderr",
     "output_type": "stream",
     "text": [
      "\n"
     ]
    }
   ],
   "source": [
    "# We now run our training algorithm and plot the results. Note that\n",
    "# for plotting, the matplotlib library is required\n",
    "costs, train_acc, test_acc, raw_train, raw_test = training(features, Y)"
   ]
  },
  {
   "cell_type": "code",
   "execution_count": 85,
   "metadata": {
    "id": "wCZugu8Cm4q-"
   },
   "outputs": [],
   "source": [
    "np.save(\"data/model_data_3.npy\", {\"test_acc\": test_acc, \"train_acc\": train_acc, \"costs\":costs})"
   ]
  },
  {
   "cell_type": "markdown",
   "metadata": {
    "id": "Fn9Ais6xrEJ5"
   },
   "source": [
    "# Results"
   ]
  },
  {
   "cell_type": "code",
   "execution_count": 104,
   "metadata": {
    "colab": {
     "base_uri": "https://localhost:8080/",
     "height": 487
    },
    "id": "owy4qWG_lsss",
    "outputId": "c1e38456-dff2-4d91-a932-27b7a47ed46a"
   },
   "outputs": [
    {
     "data": {
      "image/png": "[encoded data removed]",
      "text/plain": [
       "<Figure size 640x480 with 2 Axes>"
      ]
     },
     "metadata": {},
     "output_type": "display_data"
    }
   ],
   "source": [
    "import matplotlib.pyplot as plt\n",
    "\n",
    "crop = 50\n",
    "\n",
    "fig, ax1 = plt.subplots()\n",
    "iters = np.arange(0, crop, 1)\n",
    "colors = [\"tab:red\", \"tab:blue\"]\n",
    "ax1.set_xlabel(\"Epoch\", fontsize=25)\n",
    "ax1.set_ylabel(\"Cost\", fontsize=25, color=colors[0])\n",
    "ax1.plot(iters, costs[:crop], color=colors[0], linewidth=4)\n",
    "ax1.tick_params(axis=\"y\", labelsize=25, labelcolor=colors[0])\n",
    "ax1.tick_params(axis=\"x\", labelsize=25)\n",
    "ax1.set_yticks([0.0, 0.5, 1.0])\n",
    "\n",
    "ax2 = ax1.twinx()\n",
    "ax2.set_ylabel(\"Test Accuracy\", fontsize=25, color=colors[1])\n",
    "ax2.plot(iters, test_acc[:crop], color=colors[1], linewidth=4)\n",
    "\n",
    "ax2.tick_params(axis=\"x\", labelsize=25)\n",
    "ax2.tick_params(axis=\"y\", labelsize=25, labelcolor=colors[1])\n",
    "ax2.set_xticks([0,25,50])\n",
    "ax2.set_yticks([0.3, 0.5, 0.7])\n",
    "\n",
    "plt.grid(False)\n",
    "plt.tight_layout()\n",
    "plt.show()"
   ]
  },
  {
   "cell_type": "markdown",
   "metadata": {
    "id": "N3z3A-ssDJ2X"
   },
   "source": [
    "### Classical Neural Network"
   ]
  },
  {
   "cell_type": "code",
   "execution_count": 7,
   "metadata": {
    "colab": {
     "base_uri": "https://localhost:8080/"
    },
    "id": "Lko89jgJo5Hw",
    "outputId": "c5c1fbb1-1eb1-4604-fed4-ee89df9330a8"
   },
   "outputs": [
    {
     "name": "stdout",
     "output_type": "stream",
     "text": [
      "Model: \"sequential\"\n",
      "_________________________________________________________________\n",
      " Layer (type)                Output Shape              Param #   \n",
      "=================================================================\n",
      " dense (Dense)               (None, 16)                80        \n",
      "                                                                 \n",
      " dense_1 (Dense)             (None, 16)                272       \n",
      "                                                                 \n",
      "=================================================================\n",
      "Total params: 352\n",
      "Trainable params: 352\n",
      "Non-trainable params: 0\n",
      "_________________________________________________________________\n",
      "Epoch 1/30\n",
      "3/3 [==============================] - 7s 21ms/step - loss: 1.5464 - accuracy: 0.0000e+00\n",
      "Epoch 2/30\n",
      "3/3 [==============================] - 0s 12ms/step - loss: 1.4403 - accuracy: 0.0000e+00\n",
      "Epoch 3/30\n",
      "3/3 [==============================] - 0s 10ms/step - loss: 1.3466 - accuracy: 0.0000e+00\n",
      "Epoch 4/30\n",
      "3/3 [==============================] - 0s 8ms/step - loss: 1.2646 - accuracy: 0.0000e+00\n",
      "Epoch 5/30\n",
      "3/3 [==============================] - 0s 6ms/step - loss: 1.1944 - accuracy: 0.0000e+00\n",
      "Epoch 6/30\n",
      "3/3 [==============================] - 0s 9ms/step - loss: 1.1318 - accuracy: 0.0000e+00\n",
      "Epoch 7/30\n",
      "3/3 [==============================] - 0s 8ms/step - loss: 1.0785 - accuracy: 0.0000e+00\n",
      "Epoch 8/30\n",
      "3/3 [==============================] - 0s 12ms/step - loss: 1.0312 - accuracy: 0.0000e+00\n",
      "Epoch 9/30\n",
      "3/3 [==============================] - 0s 10ms/step - loss: 0.9934 - accuracy: 0.0000e+00\n",
      "Epoch 10/30\n",
      "3/3 [==============================] - 0s 10ms/step - loss: 0.9577 - accuracy: 0.0000e+00\n",
      "Epoch 11/30\n",
      "3/3 [==============================] - 0s 10ms/step - loss: 0.9273 - accuracy: 0.0000e+00\n",
      "Epoch 12/30\n",
      "3/3 [==============================] - 0s 12ms/step - loss: 0.9001 - accuracy: 0.0000e+00\n",
      "Epoch 13/30\n",
      "3/3 [==============================] - 0s 14ms/step - loss: 0.8766 - accuracy: 0.0000e+00\n",
      "Epoch 14/30\n",
      "3/3 [==============================] - 0s 10ms/step - loss: 0.8548 - accuracy: 0.0000e+00\n",
      "Epoch 15/30\n",
      "3/3 [==============================] - 0s 7ms/step - loss: 0.8360 - accuracy: 0.0000e+00\n",
      "Epoch 16/30\n",
      "3/3 [==============================] - 0s 6ms/step - loss: 0.8180 - accuracy: 0.0000e+00\n",
      "Epoch 17/30\n",
      "3/3 [==============================] - 0s 9ms/step - loss: 0.8016 - accuracy: 0.0000e+00\n",
      "Epoch 18/30\n",
      "3/3 [==============================] - 0s 11ms/step - loss: 0.7864 - accuracy: 0.0000e+00\n",
      "Epoch 19/30\n",
      "3/3 [==============================] - 0s 10ms/step - loss: 0.7725 - accuracy: 0.0000e+00\n",
      "Epoch 20/30\n",
      "3/3 [==============================] - 0s 16ms/step - loss: 0.7591 - accuracy: 0.0000e+00\n",
      "Epoch 21/30\n",
      "3/3 [==============================] - 0s 6ms/step - loss: 0.7468 - accuracy: 0.0000e+00\n",
      "Epoch 22/30\n",
      "3/3 [==============================] - 0s 9ms/step - loss: 0.7344 - accuracy: 0.0000e+00\n",
      "Epoch 23/30\n",
      "3/3 [==============================] - 0s 10ms/step - loss: 0.7232 - accuracy: 0.0000e+00\n",
      "Epoch 24/30\n",
      "3/3 [==============================] - 0s 8ms/step - loss: 0.7121 - accuracy: 0.0000e+00\n",
      "Epoch 25/30\n",
      "3/3 [==============================] - 0s 12ms/step - loss: 0.7020 - accuracy: 0.0000e+00\n",
      "Epoch 26/30\n",
      "3/3 [==============================] - 0s 12ms/step - loss: 0.6920 - accuracy: 0.0000e+00\n",
      "Epoch 27/30\n",
      "3/3 [==============================] - 0s 8ms/step - loss: 0.6823 - accuracy: 0.0000e+00\n",
      "Epoch 28/30\n",
      "3/3 [==============================] - 0s 9ms/step - loss: 0.6732 - accuracy: 0.0000e+00\n",
      "Epoch 29/30\n",
      "3/3 [==============================] - 0s 10ms/step - loss: 0.6643 - accuracy: 0.0000e+00\n",
      "Epoch 30/30\n",
      "3/3 [==============================] - 0s 12ms/step - loss: 0.6555 - accuracy: 0.0000e+00\n",
      "5/5 [==============================] - 0s 6ms/step\n"
     ]
    }
   ],
   "source": [
    "# def classicalNN(X, y, inputdim):\n",
    "#   keras.backend.set_floatx('float64')\n",
    "#   model = keras.models.Sequential([\n",
    "#                                   layers.Dense(16, activation =\"relu\", input_dim = inputdim),  \n",
    "#                                   #layers.Dense(64, activation =\"relu\", input_dim = 33), \n",
    "#                                   layers.Dense(16, activation =\"relu\")     # corresponds to the number of qubits we need\n",
    "#                                   ])\n",
    "#   model.summary()\n",
    "#   model.compile(loss = 'mean_squared_error', metrics =['accuracy'], optimizer = 'adam')\n",
    "#   #model.compile(optimizer='adam', loss=tf.losses.CategoricalCrossentropy(from_logits=True),metrics=['accuracy'])\n",
    "#   model.fit(X, y, epochs = 30, batch_size = 64)\n",
    "#   qvc_input = model.predict(X)\n",
    "#   return qvc_input\n",
    "\n",
    "# qvc_input = classicalNN(X, y, X_feature_size)\n",
    "\n",
    "#opt = keras.optimizers.SGD(learning_rate = 0.002)\n",
    "#model.compile(loss = 'mean_squared_error', metrics =['accuracy'], optimizer = 'adam')\n",
    "#classical = model.fit(X, y,epochs = 30, batch_size = 64)\n",
    "#qvc_input = model.predict(X)\n",
    "# print(qvc_input.shape)"
   ]
  }
 ],
 "metadata": {
  "accelerator": "GPU",
  "colab": {
   "collapsed_sections": [
    "N3z3A-ssDJ2X"
   ],
   "provenance": []
  },
  "gpuClass": "standard",
  "kernelspec": {
   "display_name": "Python 3 (ipykernel)",
   "language": "python",
   "name": "python3"
  },
  "language_info": {
   "codemirror_mode": {
    "name": "ipython",
    "version": 3
   },
   "file_extension": ".py",
   "mimetype": "text/x-python",
   "name": "python",
   "nbconvert_exporter": "python",
   "pygments_lexer": "ipython3",
   "version": "3.11.3"
  }
 },
 "nbformat": 4,
 "nbformat_minor": 4
}
